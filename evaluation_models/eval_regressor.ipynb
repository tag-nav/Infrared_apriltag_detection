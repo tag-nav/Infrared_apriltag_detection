{
 "cells": [
  {
   "cell_type": "code",
   "execution_count": 1,
   "metadata": {},
   "outputs": [
    {
     "name": "stderr",
     "output_type": "stream",
     "text": [
      "2024-11-20 12:21:57.249713: E external/local_xla/xla/stream_executor/cuda/cuda_fft.cc:485] Unable to register cuFFT factory: Attempting to register factory for plugin cuFFT when one has already been registered\n",
      "2024-11-20 12:21:57.272165: E external/local_xla/xla/stream_executor/cuda/cuda_dnn.cc:8454] Unable to register cuDNN factory: Attempting to register factory for plugin cuDNN when one has already been registered\n",
      "2024-11-20 12:21:57.279314: E external/local_xla/xla/stream_executor/cuda/cuda_blas.cc:1452] Unable to register cuBLAS factory: Attempting to register factory for plugin cuBLAS when one has already been registered\n",
      "2024-11-20 12:21:57.296026: I tensorflow/core/platform/cpu_feature_guard.cc:210] This TensorFlow binary is optimized to use available CPU instructions in performance-critical operations.\n",
      "To enable the following instructions: AVX2 FMA, in other operations, rebuild TensorFlow with the appropriate compiler flags.\n",
      "2024-11-20 12:21:58.299534: W tensorflow/compiler/tf2tensorrt/utils/py_utils.cc:38] TF-TRT Warning: Could not find TensorRT\n"
     ]
    },
    {
     "name": "stdout",
     "output_type": "stream",
     "text": [
      "WARNING ⚠️ Python>=3.10 is required, but Python==3.9.5 is currently installed \n"
     ]
    }
   ],
   "source": [
    "import tensorflow as tf\n",
    "from keras import backend as K\n",
    "import os\n",
    "import pandas as pd\n",
    "import cv2\n",
    "import numpy as np\n",
    "import sys\n",
    "sys.path.insert(0, \"../\")\n",
    "from deeparuco.impl.losses import weighted_loss\n",
    "from tensorflow.keras.models import load_model\n",
    "from ultralytics import YOLO\n",
    "import matplotlib.pyplot as plt\n",
    "import csv\n",
    "import time\n",
    "import json\n",
    "\n",
    "def custom_mae_loss(y_true, y_pred):\n",
    "    return tf.reduce_mean(tf.abs(y_pred - y_true), axis=-1)\n"
   ]
  },
  {
   "cell_type": "code",
   "execution_count": 2,
   "metadata": {},
   "outputs": [
    {
     "name": "stderr",
     "output_type": "stream",
     "text": [
      "WARNING: All log messages before absl::InitializeLog() is called are written to STDERR\n",
      "I0000 00:00:1732126921.857175   73563 cuda_executor.cc:1015] successful NUMA node read from SysFS had negative value (-1), but there must be at least one NUMA node, so returning NUMA node zero. See more at https://github.com/torvalds/linux/blob/v6.0/Documentation/ABI/testing/sysfs-bus-pci#L344-L355\n",
      "2024-11-20 12:22:01.860118: W tensorflow/core/common_runtime/gpu/gpu_device.cc:2343] Cannot dlopen some GPU libraries. Please make sure the missing libraries mentioned above are installed properly if you would like to use GPU. Follow the guide at https://www.tensorflow.org/install/gpu for how to download and setup the required libraries for your platform.\n",
      "Skipping registering GPU devices...\n"
     ]
    }
   ],
   "source": [
    "regressor = load_model(\"../models/nested2_regressor/corner_nested.keras\",\n",
    "    custom_objects={\"weighted_loss\": weighted_loss},)"
   ]
  },
  {
   "cell_type": "markdown",
   "metadata": {},
   "source": [
    "One image"
   ]
  },
  {
   "cell_type": "code",
   "execution_count": 6,
   "metadata": {},
   "outputs": [
    {
     "name": "stderr",
     "output_type": "stream",
     "text": [
      "/tmp/ipykernel_6842/4102454369.py:17: FutureWarning: Series.__getitem__ treating keys as positions is deprecated. In a future version, integer keys will always be treated as labels (consistent with DataFrame behavior). To access a value by position, use `ser.iloc[pos]`\n",
      "  filename = df.iloc[i][0]\n"
     ]
    },
    {
     "name": "stdout",
     "output_type": "stream",
     "text": [
      "0.8186212833552782\n"
     ]
    }
   ],
   "source": [
    "@tf.function(reduce_retracing=True)\n",
    "def refine_corners(crops):\n",
    "    return regressor(crops)\n",
    "\n",
    "input_size = 128\n",
    "\n",
    "norm = lambda x: (x - np.min(x)) / (np.max(x) - np.min(x) + 1e-9)\n",
    "\n",
    "pred_corner_batch = []\n",
    "true_corner_batch = []\n",
    "\n",
    "crop_dir  = '../dataset/nested2/crops/test/'\n",
    "csv_path  = '../dataset/nested2/crops/test128.csv'\n",
    "df = pd.read_csv(csv_path)\n",
    "\n",
    "i = 155\n",
    "filename = df.iloc[i][0]\n",
    "file_id = os.path.splitext(filename)[0]\n",
    "row = df.iloc[i]\n",
    "\n",
    "# Read crop image\n",
    "crop_path = crop_dir + filename\n",
    "crops_ori = [cv2.imread(crop_path)]\n",
    "crops = [norm(crop) for crop in crops_ori]\n",
    "crop = crops[0]\n",
    "crops_norm = [crop]\n",
    "\n",
    "# Predict corners\n",
    "norm_corners = refine_corners(np.array(crops_norm)).numpy()\n",
    "norm_pred_corners = [[(pred[i], pred[i + 1]) for i in range(0, 8, 2)] for pred in norm_corners]\n",
    "norm_pred_corner = norm_pred_corners[0]\n",
    "flat_norm_pred_corner = [item for t in norm_pred_corner for item in t]\n",
    "pred_corner = [x * input_size for x in flat_norm_pred_corner]\n",
    "pred_corner_batch.append(pred_corner)\n",
    "\n",
    "# True corners\n",
    "c1_x = float(row.iloc[1]) * input_size\n",
    "c1_y = float(row.iloc[2]) * input_size\n",
    "c2_x = float(row.iloc[3]) * input_size\n",
    "c2_y = float(row.iloc[4]) * input_size\n",
    "c3_x = float(row.iloc[5]) * input_size\n",
    "c3_y = float(row.iloc[6]) * input_size\n",
    "c4_x = float(row.iloc[7]) * input_size\n",
    "c4_y = float(row.iloc[8]) * input_size\n",
    "true_corner = [c1_x, c1_y, c2_x, c2_y, c3_x, c3_y, c4_x, c4_y]\n",
    "true_corner_batch.append(true_corner)\n",
    "\n",
    "im = cv2.imread(crop_path)\n",
    "\n",
    "y_true = np.array(true_corner_batch)\n",
    "y_pred = np.array(pred_corner_batch)\n",
    "abs_diff = np.abs(y_true - y_pred)\n",
    "mae = np.mean(abs_diff)\n",
    "print(mae)"
   ]
  },
  {
   "cell_type": "markdown",
   "metadata": {},
   "source": [
    "Compute FPS"
   ]
  },
  {
   "cell_type": "code",
   "execution_count": 8,
   "metadata": {},
   "outputs": [
    {
     "name": "stderr",
     "output_type": "stream",
     "text": [
      "/tmp/ipykernel_6842/3749531561.py:15: FutureWarning: Series.__getitem__ treating keys as positions is deprecated. In a future version, integer keys will always be treated as labels (consistent with DataFrame behavior). To access a value by position, use `ser.iloc[pos]`\n",
      "  filename = df.iloc[i][0]\n"
     ]
    }
   ],
   "source": [
    "@tf.function(reduce_retracing=True)\n",
    "def refine_corners(crops):\n",
    "    return regressor(crops)\n",
    "\n",
    "input_size = 128\n",
    "\n",
    "norm = lambda x: (x - np.min(x)) / (np.max(x) - np.min(x) + 1e-9)\n",
    "\n",
    "crop_dir   = '../dataset/nested2/crops/test/'\n",
    "label_dir  = '../dataset/nested2/labels/test/'\n",
    "\n",
    "start_time = time.time()\n",
    "\n",
    "for i in range(df.shape[0]):\n",
    "    filename = df.iloc[i][0]\n",
    "    file_id = os.path.splitext(filename)[0]\n",
    "    row = df.iloc[i]\n",
    "\n",
    "    # Read crop image\n",
    "    crop_path = crop_dir + filename\n",
    "    crops_ori = [cv2.imread(crop_path)]\n",
    "    crops = [norm(crop) for crop in crops_ori]\n",
    "    crop = crops[0]\n",
    "    crops_norm = [crop]\n",
    "\n",
    "    # Predict corners\n",
    "    norm_corners = refine_corners(np.array(crops_norm)).numpy()\n",
    "\n",
    "end_time = time.time()"
   ]
  },
  {
   "cell_type": "code",
   "execution_count": 11,
   "metadata": {},
   "outputs": [
    {
     "data": {
      "text/plain": [
       "0.00995179992251926"
      ]
     },
     "execution_count": 11,
     "metadata": {},
     "output_type": "execute_result"
    }
   ],
   "source": [
    "(end_time - start_time) / 9000"
   ]
  },
  {
   "cell_type": "code",
   "execution_count": 8,
   "metadata": {},
   "outputs": [
    {
     "name": "stderr",
     "output_type": "stream",
     "text": [
      "/tmp/ipykernel_73563/2117450102.py:35: FutureWarning: Series.__getitem__ treating keys as positions is deprecated. In a future version, integer keys will always be treated as labels (consistent with DataFrame behavior). To access a value by position, use `ser.iloc[pos]`\n",
      "  filename = dfd.iloc[i][0] + '.jpg'\n",
      "/tmp/ipykernel_73563/2117450102.py:59: FutureWarning: Series.__getitem__ treating keys as positions is deprecated. In a future version, integer keys will always be treated as labels (consistent with DataFrame behavior). To access a value by position, use `ser.iloc[pos]`\n",
      "  c1_x = float(row.iloc[0][1]) * input_size\n",
      "/tmp/ipykernel_73563/2117450102.py:60: FutureWarning: Series.__getitem__ treating keys as positions is deprecated. In a future version, integer keys will always be treated as labels (consistent with DataFrame behavior). To access a value by position, use `ser.iloc[pos]`\n",
      "  c1_y = float(row.iloc[0][2]) * input_size\n",
      "/tmp/ipykernel_73563/2117450102.py:61: FutureWarning: Series.__getitem__ treating keys as positions is deprecated. In a future version, integer keys will always be treated as labels (consistent with DataFrame behavior). To access a value by position, use `ser.iloc[pos]`\n",
      "  c2_x = float(row.iloc[0][3]) * input_size\n",
      "/tmp/ipykernel_73563/2117450102.py:62: FutureWarning: Series.__getitem__ treating keys as positions is deprecated. In a future version, integer keys will always be treated as labels (consistent with DataFrame behavior). To access a value by position, use `ser.iloc[pos]`\n",
      "  c2_y = float(row.iloc[0][4]) * input_size\n",
      "/tmp/ipykernel_73563/2117450102.py:63: FutureWarning: Series.__getitem__ treating keys as positions is deprecated. In a future version, integer keys will always be treated as labels (consistent with DataFrame behavior). To access a value by position, use `ser.iloc[pos]`\n",
      "  c3_x = float(row.iloc[0][5]) * input_size\n",
      "/tmp/ipykernel_73563/2117450102.py:64: FutureWarning: Series.__getitem__ treating keys as positions is deprecated. In a future version, integer keys will always be treated as labels (consistent with DataFrame behavior). To access a value by position, use `ser.iloc[pos]`\n",
      "  c3_y = float(row.iloc[0][6]) * input_size\n",
      "/tmp/ipykernel_73563/2117450102.py:65: FutureWarning: Series.__getitem__ treating keys as positions is deprecated. In a future version, integer keys will always be treated as labels (consistent with DataFrame behavior). To access a value by position, use `ser.iloc[pos]`\n",
      "  c4_x = float(row.iloc[0][7]) * input_size\n",
      "/tmp/ipykernel_73563/2117450102.py:66: FutureWarning: Series.__getitem__ treating keys as positions is deprecated. In a future version, integer keys will always be treated as labels (consistent with DataFrame behavior). To access a value by position, use `ser.iloc[pos]`\n",
      "  c4_y = float(row.iloc[0][8]) * input_size\n",
      "/tmp/ipykernel_73563/2117450102.py:82: FutureWarning: Series.__getitem__ treating keys as positions is deprecated. In a future version, integer keys will always be treated as labels (consistent with DataFrame behavior). To access a value by position, use `ser.iloc[pos]`\n",
      "  'pc4_x': pred_corner[6], 'pc4_y': pred_corner[7], 'location': dfd.iloc[i][2],\n",
      "/tmp/ipykernel_73563/2117450102.py:83: FutureWarning: Series.__getitem__ treating keys as positions is deprecated. In a future version, integer keys will always be treated as labels (consistent with DataFrame behavior). To access a value by position, use `ser.iloc[pos]`\n",
      "  'reflection': row.iloc[0][11], 'mae': mae\n"
     ]
    }
   ],
   "source": [
    "def write_to_csv(file_path, row_data, write_header=False):\n",
    "    # Open the CSV file in append mode\n",
    "    with open(file_path, mode='a', newline='') as file:\n",
    "        writer = csv.DictWriter(file, fieldnames=fieldnames)\n",
    "        writer.writerow(row_data)\n",
    "\n",
    "fieldnames = ['pic', 'tc1_x', 'tc1_y', 'tc2_x', 'tc2_y', 'tc3_x', 'tc3_y', 'tc4_x', 'tc4_y', 'pc1_x', 'pc1_y', 'pc2_x', 'pc2_y', 'pc3_x', 'pc3_y', 'pc4_x', 'pc4_y', 'location', 'reflection', 'mae']\n",
    "\n",
    "\n",
    "@tf.function(reduce_retracing=True)\n",
    "def refine_corners(crops):\n",
    "    return regressor(crops)\n",
    "\n",
    "input_size = 128\n",
    "\n",
    "norm = lambda x: (x - np.min(x)) / (np.max(x) - np.min(x) + 1e-9)\n",
    "\n",
    "pred_corner_batch = []\n",
    "true_corner_batch = []\n",
    "\n",
    "crop_dir    = '../dataset/nested2/crops/test/'\n",
    "csv_path    = '../dataset/nested2/crops/test128.csv'\n",
    "result_path = '../dataset/nested2/corner_eval_model.csv'\n",
    "detect_path = '../dataset/nested2/detect_eval_model_n.csv'\n",
    "\n",
    "dfd = pd.read_csv(detect_path)\n",
    "dfd = dfd.loc[dfd['TP'] == 1]\n",
    "df = pd.read_csv(csv_path)\n",
    "\n",
    "with open(result_path, mode='a', newline='') as file:\n",
    "    writer = csv.DictWriter(file, fieldnames=fieldnames)\n",
    "    writer.writeheader()\n",
    "\n",
    "for i in range(dfd.shape[0]):\n",
    "    filename = dfd.iloc[i][0] + '.jpg'\n",
    "    \n",
    "    file_id = os.path.splitext(filename)[0]\n",
    "    im_name = file_id.split('_')[0]\n",
    "    row = df[df['pic'] == filename]\n",
    "\n",
    "\n",
    "    # Read crop image\n",
    "    crop_path = crop_dir + filename\n",
    "    crops_ori = [cv2.imread(crop_path)]\n",
    "    crops = [norm(crop) for crop in crops_ori]\n",
    "    crop = crops[0]\n",
    "    crops_norm = [crop]\n",
    "\n",
    "    # Predict corners\n",
    "    norm_corners = refine_corners(np.array(crops_norm)).numpy()\n",
    "    norm_pred_corners = [[(pred[i], pred[i + 1]) for i in range(0, 8, 2)] for pred in norm_corners]\n",
    "    norm_pred_corner = norm_pred_corners[0]\n",
    "    flat_norm_pred_corner = [item for t in norm_pred_corner for item in t]\n",
    "    pred_corner = [x * input_size for x in flat_norm_pred_corner]\n",
    "    pred_corner_batch.append(pred_corner)\n",
    "    pred_corner = np.array(pred_corner)\n",
    "\n",
    "    # True corners\n",
    "    c1_x = float(row.iloc[0][1]) * input_size\n",
    "    c1_y = float(row.iloc[0][2]) * input_size\n",
    "    c2_x = float(row.iloc[0][3]) * input_size\n",
    "    c2_y = float(row.iloc[0][4]) * input_size\n",
    "    c3_x = float(row.iloc[0][5]) * input_size\n",
    "    c3_y = float(row.iloc[0][6]) * input_size\n",
    "    c4_x = float(row.iloc[0][7]) * input_size\n",
    "    c4_y = float(row.iloc[0][8]) * input_size\n",
    "    true_corner = [c1_x, c1_y, c2_x, c2_y, c3_x, c3_y, c4_x, c4_y]\n",
    "    true_corner_batch.append(true_corner)\n",
    "    true_corner = np.array(true_corner)\n",
    "\n",
    "    # MAE\n",
    "    mae = np.mean(np.abs(true_corner-pred_corner))\n",
    "\n",
    "    row_data = { 'pic': filename,\n",
    "    'tc1_x': true_corner[0], 'tc1_y': true_corner[1],\n",
    "    'tc2_x': true_corner[2], 'tc2_y': true_corner[3],\n",
    "    'tc3_x': true_corner[4], 'tc3_y': true_corner[5],\n",
    "    'tc4_x': true_corner[6], 'tc4_y': true_corner[7],\n",
    "    'pc1_x': pred_corner[0], 'pc1_y': pred_corner[1],\n",
    "    'pc2_x': pred_corner[2], 'pc2_y': pred_corner[3],\n",
    "    'pc3_x': pred_corner[4], 'pc3_y': pred_corner[5],\n",
    "    'pc4_x': pred_corner[6], 'pc4_y': pred_corner[7], 'location': dfd.iloc[i][2],\n",
    "    'reflection': row.iloc[0][11], 'mae': mae\n",
    "    }\n",
    "    write_to_csv(result_path, row_data)"
   ]
  },
  {
   "cell_type": "code",
   "execution_count": 9,
   "metadata": {},
   "outputs": [
    {
     "name": "stdout",
     "output_type": "stream",
     "text": [
      "1.0730622116649415\n"
     ]
    }
   ],
   "source": [
    "true_corner_batch = np.array(true_corner_batch)\n",
    "pred_corner_batch = np.array(pred_corner_batch)\n",
    "abs_diff = np.abs(true_corner_batch - pred_corner_batch)\n",
    "mae = np.mean(abs_diff)\n",
    "print(mae)"
   ]
  },
  {
   "cell_type": "code",
   "execution_count": 12,
   "metadata": {},
   "outputs": [
    {
     "name": "stderr",
     "output_type": "stream",
     "text": [
      "/tmp/ipykernel_73563/1879305241.py:13: FutureWarning: Series.__getitem__ treating keys as positions is deprecated. In a future version, integer keys will always be treated as labels (consistent with DataFrame behavior). To access a value by position, use `ser.iloc[pos]`\n",
      "  tc1_x = df_sub.iloc[i][1]\n",
      "/tmp/ipykernel_73563/1879305241.py:14: FutureWarning: Series.__getitem__ treating keys as positions is deprecated. In a future version, integer keys will always be treated as labels (consistent with DataFrame behavior). To access a value by position, use `ser.iloc[pos]`\n",
      "  tc1_y = df_sub.iloc[i][2]\n",
      "/tmp/ipykernel_73563/1879305241.py:15: FutureWarning: Series.__getitem__ treating keys as positions is deprecated. In a future version, integer keys will always be treated as labels (consistent with DataFrame behavior). To access a value by position, use `ser.iloc[pos]`\n",
      "  tc2_x = df_sub.iloc[i][3]\n",
      "/tmp/ipykernel_73563/1879305241.py:16: FutureWarning: Series.__getitem__ treating keys as positions is deprecated. In a future version, integer keys will always be treated as labels (consistent with DataFrame behavior). To access a value by position, use `ser.iloc[pos]`\n",
      "  tc2_y = df_sub.iloc[i][4]\n",
      "/tmp/ipykernel_73563/1879305241.py:17: FutureWarning: Series.__getitem__ treating keys as positions is deprecated. In a future version, integer keys will always be treated as labels (consistent with DataFrame behavior). To access a value by position, use `ser.iloc[pos]`\n",
      "  tc3_x = df_sub.iloc[i][5]\n",
      "/tmp/ipykernel_73563/1879305241.py:18: FutureWarning: Series.__getitem__ treating keys as positions is deprecated. In a future version, integer keys will always be treated as labels (consistent with DataFrame behavior). To access a value by position, use `ser.iloc[pos]`\n",
      "  tc3_y = df_sub.iloc[i][6]\n",
      "/tmp/ipykernel_73563/1879305241.py:19: FutureWarning: Series.__getitem__ treating keys as positions is deprecated. In a future version, integer keys will always be treated as labels (consistent with DataFrame behavior). To access a value by position, use `ser.iloc[pos]`\n",
      "  tc4_x = df_sub.iloc[i][7]\n",
      "/tmp/ipykernel_73563/1879305241.py:20: FutureWarning: Series.__getitem__ treating keys as positions is deprecated. In a future version, integer keys will always be treated as labels (consistent with DataFrame behavior). To access a value by position, use `ser.iloc[pos]`\n",
      "  tc4_y = df_sub.iloc[i][8]\n",
      "/tmp/ipykernel_73563/1879305241.py:23: FutureWarning: Series.__getitem__ treating keys as positions is deprecated. In a future version, integer keys will always be treated as labels (consistent with DataFrame behavior). To access a value by position, use `ser.iloc[pos]`\n",
      "  pc1_x = df_sub.iloc[i][9]\n",
      "/tmp/ipykernel_73563/1879305241.py:24: FutureWarning: Series.__getitem__ treating keys as positions is deprecated. In a future version, integer keys will always be treated as labels (consistent with DataFrame behavior). To access a value by position, use `ser.iloc[pos]`\n",
      "  pc1_y = df_sub.iloc[i][10]\n",
      "/tmp/ipykernel_73563/1879305241.py:25: FutureWarning: Series.__getitem__ treating keys as positions is deprecated. In a future version, integer keys will always be treated as labels (consistent with DataFrame behavior). To access a value by position, use `ser.iloc[pos]`\n",
      "  pc2_x = df_sub.iloc[i][11]\n",
      "/tmp/ipykernel_73563/1879305241.py:26: FutureWarning: Series.__getitem__ treating keys as positions is deprecated. In a future version, integer keys will always be treated as labels (consistent with DataFrame behavior). To access a value by position, use `ser.iloc[pos]`\n",
      "  pc2_y = df_sub.iloc[i][12]\n",
      "/tmp/ipykernel_73563/1879305241.py:27: FutureWarning: Series.__getitem__ treating keys as positions is deprecated. In a future version, integer keys will always be treated as labels (consistent with DataFrame behavior). To access a value by position, use `ser.iloc[pos]`\n",
      "  pc3_x = df_sub.iloc[i][13]\n",
      "/tmp/ipykernel_73563/1879305241.py:28: FutureWarning: Series.__getitem__ treating keys as positions is deprecated. In a future version, integer keys will always be treated as labels (consistent with DataFrame behavior). To access a value by position, use `ser.iloc[pos]`\n",
      "  pc3_y = df_sub.iloc[i][14]\n",
      "/tmp/ipykernel_73563/1879305241.py:29: FutureWarning: Series.__getitem__ treating keys as positions is deprecated. In a future version, integer keys will always be treated as labels (consistent with DataFrame behavior). To access a value by position, use `ser.iloc[pos]`\n",
      "  pc4_x = df_sub.iloc[i][15]\n",
      "/tmp/ipykernel_73563/1879305241.py:30: FutureWarning: Series.__getitem__ treating keys as positions is deprecated. In a future version, integer keys will always be treated as labels (consistent with DataFrame behavior). To access a value by position, use `ser.iloc[pos]`\n",
      "  pc4_y = df_sub.iloc[i][16]\n"
     ]
    },
    {
     "name": "stdout",
     "output_type": "stream",
     "text": [
      "1.0704654264507703\n"
     ]
    }
   ],
   "source": [
    "import pandas as pd\n",
    "import matplotlib.pyplot as plt\n",
    "import numpy as np\n",
    "\n",
    "csv_path_model = '../dataset/nested2/corner_eval_model.csv'\n",
    "\n",
    "df = pd.read_csv(csv_path_model)\n",
    "df_sub = df[df['location'] == 'inner']\n",
    "true_corner_batch = []\n",
    "pred_corner_batch = []\n",
    "\n",
    "for i in range(len(df_sub)):\n",
    "    tc1_x = df_sub.iloc[i][1]\n",
    "    tc1_y = df_sub.iloc[i][2]\n",
    "    tc2_x = df_sub.iloc[i][3]\n",
    "    tc2_y = df_sub.iloc[i][4]\n",
    "    tc3_x = df_sub.iloc[i][5]\n",
    "    tc3_y = df_sub.iloc[i][6]\n",
    "    tc4_x = df_sub.iloc[i][7]\n",
    "    tc4_y = df_sub.iloc[i][8]\n",
    "    true_corner = [tc1_x, tc1_y, tc2_x, tc2_y, tc3_x, tc3_y, tc4_x, tc4_y]\n",
    "    true_corner_batch.append(true_corner)\n",
    "    pc1_x = df_sub.iloc[i][9]\n",
    "    pc1_y = df_sub.iloc[i][10]\n",
    "    pc2_x = df_sub.iloc[i][11]\n",
    "    pc2_y = df_sub.iloc[i][12]\n",
    "    pc3_x = df_sub.iloc[i][13]\n",
    "    pc3_y = df_sub.iloc[i][14]\n",
    "    pc4_x = df_sub.iloc[i][15]\n",
    "    pc4_y = df_sub.iloc[i][16]\n",
    "    pred_corner = [pc1_x, pc1_y, pc2_x, pc2_y, pc3_x, pc3_y, pc4_x, pc4_y]\n",
    "    pred_corner_batch.append(pred_corner)\n",
    "\n",
    "true_corner_batch = np.array(true_corner_batch)\n",
    "pred_corner_batch = np.array(pred_corner_batch)\n",
    "abs_diff = np.abs(true_corner_batch - pred_corner_batch)\n",
    "mae = np.mean(abs_diff)\n",
    "print(mae)"
   ]
  }
 ],
 "metadata": {
  "kernelspec": {
   "display_name": "venv",
   "language": "python",
   "name": "python3"
  },
  "language_info": {
   "codemirror_mode": {
    "name": "ipython",
    "version": 3
   },
   "file_extension": ".py",
   "mimetype": "text/x-python",
   "name": "python",
   "nbconvert_exporter": "python",
   "pygments_lexer": "ipython3",
   "version": "3.9.5"
  }
 },
 "nbformat": 4,
 "nbformat_minor": 2
}
