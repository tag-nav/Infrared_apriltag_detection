{
 "cells": [
  {
   "cell_type": "code",
   "execution_count": 2,
   "metadata": {},
   "outputs": [
    {
     "name": "stderr",
     "output_type": "stream",
     "text": [
      "2024-10-22 23:59:41.773229: E external/local_xla/xla/stream_executor/cuda/cuda_fft.cc:485] Unable to register cuFFT factory: Attempting to register factory for plugin cuFFT when one has already been registered\n",
      "2024-10-22 23:59:41.888672: E external/local_xla/xla/stream_executor/cuda/cuda_dnn.cc:8454] Unable to register cuDNN factory: Attempting to register factory for plugin cuDNN when one has already been registered\n",
      "2024-10-22 23:59:41.924996: E external/local_xla/xla/stream_executor/cuda/cuda_blas.cc:1452] Unable to register cuBLAS factory: Attempting to register factory for plugin cuBLAS when one has already been registered\n",
      "2024-10-22 23:59:42.132387: I tensorflow/core/platform/cpu_feature_guard.cc:210] This TensorFlow binary is optimized to use available CPU instructions in performance-critical operations.\n",
      "To enable the following instructions: AVX2 FMA, in other operations, rebuild TensorFlow with the appropriate compiler flags.\n",
      "2024-10-22 23:59:43.886127: W tensorflow/compiler/tf2tensorrt/utils/py_utils.cc:38] TF-TRT Warning: Could not find TensorRT\n"
     ]
    }
   ],
   "source": [
    "import os\n",
    "import random as rn\n",
    "from argparse import ArgumentParser\n",
    "from os import mkdir\n",
    "from os.path import exists\n",
    "import sys\n",
    "sys.path.insert(0, \"../\")\n",
    "\n",
    "import numpy as np\n",
    "import pandas as pd\n",
    "import tensorflow as tf\n",
    "from tensorflow.keras.callbacks import CSVLogger, EarlyStopping, ReduceLROnPlateau"
   ]
  },
  {
   "cell_type": "code",
   "execution_count": null,
   "metadata": {},
   "outputs": [],
   "source": [
    "seed = 0\n",
    "os.environ[\"PYTHONHASHSEED\"] = \"0\"\n",
    "\n",
    "np.random.seed(seed)\n",
    "rn.seed(seed)\n",
    "tf.random.set_seed(seed)\n",
    "\n",
    "from deeparuco.impl.architectures import custom_regressor\n",
    "from deeparuco.impl.datagen import corner_gen\n",
    "from deeparuco.impl.losses import weighted_loss\n",
    "\n",
    "# Control paramters\n",
    "batch_size = 32\n",
    "epochs = 100\n",
    "patience = 10\n",
    "reduce_after = 5\n",
    "\n",
    "# Model\n",
    "model = custom_regressor()\n",
    "model.summary()\n",
    "model.compile(loss=\"mae\", optimizer=\"adam\")\n",
    "\n",
    "# Load dataset\n",
    "train_src_dir = '../dataset/nested/crops/train'\n",
    "valid_src_dir = '../dataset/nested/crops/val'\n",
    "train_csv     = '../dataset/nested/crops/train128.csv'\n",
    "valid_csv     = '../dataset/nested/crops/val128.csv'\n",
    "train_df = pd.read_csv(train_csv)\n",
    "valid_df = pd.read_csv(valid_csv)\n",
    "\n",
    "train_generator = corner_gen(train_df, train_src_dir, batch_size, True, True)\n",
    "valid_generator = corner_gen(valid_df, valid_src_dir, batch_size, True, True)"
   ]
  },
  {
   "cell_type": "code",
   "execution_count": null,
   "metadata": {},
   "outputs": [],
   "source": [
    "run_name = 'reg_nested'\n",
    "\n",
    "stop = EarlyStopping(\n",
    "    monitor=\"val_loss\",\n",
    "    patience=patience,\n",
    "    verbose=True,\n",
    "    restore_best_weights=True,\n",
    "    min_delta=1e-4,\n",
    ")\n",
    "reduce_lr = ReduceLROnPlateau(monitor=\"val_loss\", patience=reduce_after, factor=0.5)\n",
    "\n",
    "# Training\n",
    "\n",
    "if not exists(\"./models/nested/corner\"):\n",
    "    mkdir(\"./models/nested/corner\")\n",
    "\n",
    "if not exists(\"./models/nested/corner/losses\"):\n",
    "    mkdir(\"./models/nested/corner/losses\")\n",
    "\n",
    "csv_logger = CSVLogger(f\"./models/nested/corner/losses/loss_{run_name}.csv\")\n",
    "model.fit(\n",
    "    train_generator,\n",
    "    batch_size=batch_size,\n",
    "    epochs=epochs,\n",
    "    validation_data=valid_generator,\n",
    "    callbacks=[stop, reduce_lr, csv_logger],\n",
    "    verbose=True,\n",
    ")\n",
    "model.save(f\"./models/nested/corner/{run_name}.keras\")\n"
   ]
  }
 ],
 "metadata": {
  "kernelspec": {
   "display_name": "venv",
   "language": "python",
   "name": "python3"
  },
  "language_info": {
   "codemirror_mode": {
    "name": "ipython",
    "version": 3
   },
   "file_extension": ".py",
   "mimetype": "text/x-python",
   "name": "python",
   "nbconvert_exporter": "python",
   "pygments_lexer": "ipython3",
   "version": "3.9.5"
  }
 },
 "nbformat": 4,
 "nbformat_minor": 2
}
